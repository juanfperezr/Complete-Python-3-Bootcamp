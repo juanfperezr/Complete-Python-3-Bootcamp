{
 "cells": [
  {
   "cell_type": "markdown",
   "metadata": {},
   "source": [
    "### Tic Tact Toe game"
   ]
  },
  {
   "cell_type": "code",
   "execution_count": 76,
   "metadata": {},
   "outputs": [],
   "source": [
    "from IPython.display import clear_output\n",
    "from random import randint"
   ]
  },
  {
   "cell_type": "code",
   "execution_count": 62,
   "metadata": {},
   "outputs": [],
   "source": [
    "def welcome_message():\n",
    "    \n",
    "    print('Welcome to the Tic tact toe GAME!!!\\n')\n",
    "    \n",
    "    print('This is how the boards and position looks like. Keep that in mind\\n')\n",
    "    print('1' + '|' +  '2' +  '|' + '3')\n",
    "    print('-' + '-' + '-' + '-' + '-')\n",
    "    print('4' + '|' +  '5' +  '|' + '6')\n",
    "    print('-' + '-' + '-' + '-' + '-')\n",
    "    print('7' + '|' +  '8' +  '|' + '9')\n",
    "    print('\\n\\n')"
   ]
  },
  {
   "cell_type": "code",
   "execution_count": 63,
   "metadata": {},
   "outputs": [
    {
     "name": "stdout",
     "output_type": "stream",
     "text": [
      "Welcome to the Tic tact toe GAME!!!\n",
      "\n",
      "This is how the boards and position looks like. Keep that in mind\n",
      "\n",
      "1|2|3\n",
      "-----\n",
      "4|5|6\n",
      "-----\n",
      "7|8|9\n",
      "\n",
      "\n",
      "\n"
     ]
    }
   ],
   "source": [
    "welcome_message()"
   ]
  },
  {
   "cell_type": "code",
   "execution_count": 65,
   "metadata": {},
   "outputs": [],
   "source": [
    "def display_board(board):\n",
    "    \n",
    "    clear_output()\n",
    "    \n",
    "#     if show_guide:\n",
    "#         print('This is how the boards and position in it looks like. Keep that in mind\\n')\n",
    "#         print('1' + '|' +  '2' +  '|' + '3')\n",
    "#         print('-' + '-' + '-' + '-' + '-')\n",
    "#         print('4' + '|' +  '5' +  '|' + '6')\n",
    "#         print('-' + '-' + '-' + '-' + '-')\n",
    "#         print('7' + '|' +  '8' +  '|' + '9')\n",
    "#         print('\\n\\n')\n",
    "    \n",
    "    \n",
    "    print(board[1] + '|' +  board[2] +  '|' + board[3])\n",
    "    print('-' + '-' + '-' + '-' + '-')\n",
    "    print(board[4] + '|' +  board[5] +  '|' + board[6])\n",
    "    print('-' + '-' + '-' + '-' + '-')\n",
    "    print(board[7] + '|' +  board[8] +  '|' + board[9])"
   ]
  },
  {
   "cell_type": "code",
   "execution_count": 52,
   "metadata": {},
   "outputs": [
    {
     "data": {
      "text/plain": [
       "[' ', ' ', ' ', ' ', ' ', ' ', ' ', ' ', ' ', ' ']"
      ]
     },
     "execution_count": 52,
     "metadata": {},
     "output_type": "execute_result"
    }
   ],
   "source": [
    "board=[' ']*10\n",
    "board"
   ]
  },
  {
   "cell_type": "code",
   "execution_count": 36,
   "metadata": {
    "scrolled": true
   },
   "outputs": [
    {
     "name": "stdout",
     "output_type": "stream",
     "text": [
      "This is how the boards and position in it looks like. Keep that in mind\n",
      "\n",
      "1|2|3\n",
      "-----\n",
      "4|5|6\n",
      "-----\n",
      "7|8|9\n",
      "\n",
      "\n",
      "\n",
      " | | \n",
      "-----\n",
      " | | \n",
      "-----\n",
      " | | \n"
     ]
    }
   ],
   "source": [
    "display_board(test_board, True)"
   ]
  },
  {
   "cell_type": "code",
   "execution_count": 64,
   "metadata": {},
   "outputs": [],
   "source": [
    "def player_marker():\n",
    "    choice = 'wrong'\n",
    "    \n",
    "    while choice not in ['X','O']:\n",
    "        \n",
    "        choice = input(\"Enter the marker of your choice ('X or O'):\")\n",
    "        \n",
    "        if choice not in ['X','O']:\n",
    "            print(\"Invalid marker. Enter either'X' or 'O'\")\n",
    "        \n",
    "    player1 = choice\n",
    "    if player1 == 'X':\n",
    "        player2='O'\n",
    "    else:\n",
    "        player2 = 'X'\n",
    "\n",
    "    print(f'Player1 marker: {player1}')\n",
    "    print(f'Player2 marker: {player2}')\n",
    "    \n",
    "    return (player1,player2)"
   ]
  },
  {
   "cell_type": "code",
   "execution_count": 31,
   "metadata": {},
   "outputs": [
    {
     "name": "stdout",
     "output_type": "stream",
     "text": [
      "Enter the marker of your choice ('X or O'):u\n",
      "Invalid marker. Enter either'X' or 'O'\n",
      "Enter the marker of your choice ('X or O'):r\n",
      "Invalid marker. Enter either'X' or 'O'\n",
      "Enter the marker of your choice ('X or O'):O\n",
      "Player1 marker: O\n",
      "Player2 marker: X\n"
     ]
    },
    {
     "data": {
      "text/plain": [
       "('O', 'X')"
      ]
     },
     "execution_count": 31,
     "metadata": {},
     "output_type": "execute_result"
    }
   ],
   "source": [
    "player_input()"
   ]
  },
  {
   "cell_type": "code",
   "execution_count": 181,
   "metadata": {},
   "outputs": [],
   "source": [
    "def position_choice():\n",
    "    \n",
    "    # This original choice value can be anything that isn't an integer\n",
    "    choice = 'wrong'\n",
    "    within_range = False\n",
    "    \n",
    "    # While the choice is not a digit, keep asking for input.\n",
    "    while choice.isdigit() == False or within_range == False:\n",
    "        \n",
    "        # we shouldn't convert here, otherwise we get an error on a wrong input\n",
    "        choice = input(\"where do you want to put the marker \")\n",
    "        \n",
    "        if choice.isdigit() == False:\n",
    "            #clear_output()\n",
    "            print(\"Please enter a number\")\n",
    "            \n",
    "        if choice.isdigit() == True:\n",
    "            if int(choice) in range(1,10):\n",
    "                within_range = True\n",
    "            else:\n",
    "                #clear_output()\n",
    "                print(\"Sorry, but you did not choose a valid position from the board. Remember, number between 1-9\")\n",
    "                within_range = False\n",
    "    # We can convert once the while loop above has confirmed we have a digit.\n",
    "    #clear_output()\n",
    "    return int(choice)"
   ]
  },
  {
   "cell_type": "code",
   "execution_count": 170,
   "metadata": {},
   "outputs": [],
   "source": [
    "def valid_choice(board):\n",
    "    position = 0\n",
    "    \n",
    "    while position not in [1,2,3,4,5,6,7,8,9] or not space_check(board, position):\n",
    "        position = position_choice()\n",
    "        \n",
    "    return position"
   ]
  },
  {
   "cell_type": "code",
   "execution_count": 30,
   "metadata": {
    "scrolled": true
   },
   "outputs": [
    {
     "name": "stdout",
     "output_type": "stream",
     "text": [
      "Sorry, but you did not choose a valid position from the board. Remember, number between 1-9\n",
      "where do you want to put the marker 9\n"
     ]
    },
    {
     "data": {
      "text/plain": [
       "9"
      ]
     },
     "execution_count": 30,
     "metadata": {},
     "output_type": "execute_result"
    }
   ],
   "source": [
    "position_choice()"
   ]
  },
  {
   "cell_type": "code",
   "execution_count": 89,
   "metadata": {},
   "outputs": [],
   "source": [
    "def replacement_choice(board,position, marker):\n",
    "    board[position] = marker"
   ]
  },
  {
   "cell_type": "code",
   "execution_count": 55,
   "metadata": {
    "scrolled": false
   },
   "outputs": [
    {
     "name": "stdout",
     "output_type": "stream",
     "text": [
      " | | \n",
      "-----\n",
      " | | \n",
      "-----\n",
      " |X|X\n"
     ]
    }
   ],
   "source": [
    "display_board(replacement_choice(8,'X'), False)"
   ]
  },
  {
   "cell_type": "code",
   "execution_count": 73,
   "metadata": {},
   "outputs": [],
   "source": [
    "def win_check(board, mark):\n",
    "    return ((board[1] == mark and board[2] == mark and board[3] == mark) or # across the top\n",
    "    (board[4] == mark and board[5] == mark and board[6] == mark) or # across the middle\n",
    "    (board[7] == mark and board[8] == mark and board[9] == mark) or # across the bottom\n",
    "    (board[1] == mark and board[4] == mark and board[7] == mark) or # down the middle\n",
    "    (board[2] == mark and board[5] == mark and board[8] == mark) or # down the middle\n",
    "    (board[3] == mark and board[6] == mark and board[9] == mark) or # down the right side\n",
    "    (board[3] == mark and board[5] == mark and board[7] == mark) or # diagonal\n",
    "    (board[1] == mark and board[5] == mark and board[9] == mark)) # diagonal"
   ]
  },
  {
   "cell_type": "code",
   "execution_count": 144,
   "metadata": {},
   "outputs": [],
   "source": [
    "def choose_first():\n",
    "    if randint(0,1) == 0:\n",
    "        return 'Player1'\n",
    "    else:\n",
    "        return 'Player2'"
   ]
  },
  {
   "cell_type": "code",
   "execution_count": 147,
   "metadata": {},
   "outputs": [],
   "source": [
    "def space_check(board, position):\n",
    "    \n",
    "    return board[position] == ' '"
   ]
  },
  {
   "cell_type": "code",
   "execution_count": 148,
   "metadata": {},
   "outputs": [],
   "source": [
    "def full_board_check(board):\n",
    "    for i in range(1,10):\n",
    "        if space_check(board, i):\n",
    "            return False\n",
    "    return True"
   ]
  },
  {
   "cell_type": "code",
   "execution_count": 182,
   "metadata": {},
   "outputs": [],
   "source": [
    "def game_on():\n",
    "    game_on = True\n",
    "    board = [' ']*10\n",
    "    welcome_message()\n",
    "    turn = choose_first()\n",
    "    print('Who goes first? : {}'.format(turn))\n",
    "    player1_mark, player2_mark = player_marker()\n",
    "    \n",
    "    while game_on:\n",
    "        \n",
    "        if turn == 'Player1':\n",
    "\n",
    "            position_1 = valid_choice(board)\n",
    "\n",
    "            replacement_choice(board,position_1, player1_mark)\n",
    "\n",
    "            display_board(board)\n",
    "            \n",
    "            if win_check(board, player1_mark):\n",
    "                display_board(board)\n",
    "                print('Congratulations! You have won the game!')\n",
    "                game_on = False\n",
    "            else:\n",
    "                if full_board_check(board):\n",
    "                    display_board(board)\n",
    "                    print('The game is a draw!')\n",
    "                    break\n",
    "                else:\n",
    "                    turn = 'Player2'\n",
    "        \n",
    "        else:\n",
    "        \n",
    "            position_2 = valid_choice(board)\n",
    "\n",
    "            replacement_choice(board,position_2, player2_mark)\n",
    "\n",
    "            display_board(board)\n",
    "            \n",
    "            if win_check(board, player2_mark):\n",
    "                display_board(board)\n",
    "                print('Player 2 has won!')\n",
    "                game_on = False\n",
    "            else:\n",
    "                if full_board_check(board):\n",
    "                    display_board(board)\n",
    "                    print('The game is a draw!')\n",
    "                    break\n",
    "                else:\n",
    "                    turn = 'Player1'"
   ]
  },
  {
   "cell_type": "code",
   "execution_count": 186,
   "metadata": {},
   "outputs": [
    {
     "name": "stdout",
     "output_type": "stream",
     "text": [
      "O|X|O\n",
      "-----\n",
      "X|X|O\n",
      "-----\n",
      "O|X| \n",
      "Congratulations! You have won the game!\n"
     ]
    }
   ],
   "source": [
    "game_on()"
   ]
  }
 ],
 "metadata": {
  "kernelspec": {
   "display_name": "Python 3",
   "language": "python",
   "name": "python3"
  },
  "language_info": {
   "codemirror_mode": {
    "name": "ipython",
    "version": 3
   },
   "file_extension": ".py",
   "mimetype": "text/x-python",
   "name": "python",
   "nbconvert_exporter": "python",
   "pygments_lexer": "ipython3",
   "version": "3.7.4"
  }
 },
 "nbformat": 4,
 "nbformat_minor": 2
}
